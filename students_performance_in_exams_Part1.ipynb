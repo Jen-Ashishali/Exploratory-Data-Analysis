{
 "cells": [
  {
   "cell_type": "markdown",
   "metadata": {},
   "source": [
    "# Part I - (Student Performance in Exams)\n",
    "## by (Jennifer Ashishali Ochonogor)\n",
    "\n",
    "## Introduction\n",
    "This is a fictional dataset sourced from [Kaggle](https://www.kaggle.com/datasets/whenamancodes/students-performance-in-exams?resource=download) which consists of the marks secured by students in various subjects.\n",
    "\n",
    "The dataset is stored in a csv file and will be imported into a pandas dataframe for the objective of this part of the project, which is to conduct exploratory data analysis using Python data science and data visualization libraries to explore the dataset’s variables, understand the data’s structure, oddities, patterns, and relationships, and answer some questions about the data. The questions and meaning of each variable in the dataset are stated below;\n",
    "\n",
    "**Questions**\n",
    "- How effective is the test preparation course?\n",
    "- Which major factors contribute to test outcomes?\n",
    "- What would be the best way to improve student scores on each test?\n",
    "\n",
    "**Variables**\n",
    "- Gender - Gender of student \n",
    "- Race/Ethnicity - Race of student anonymized as groups\n",
    "- Parental Level of Education - Parent Level of Education \n",
    "- Lunch - Free/reduced or standard lunch program\n",
    "- Test Preparation course - Learning tool designed to increase student performance on standardized tests\n",
    "- Math Score - Math score in test\n",
    "- Reading Score - Reading score in test\n",
    "- Writing Score - Writing score in test\n",
    "\n",
    "\n",
    "\n",
    "## Preliminary Wrangling\n"
   ]
  },
  {
   "cell_type": "code",
   "execution_count": 1,
   "metadata": {},
   "outputs": [],
   "source": [
    "# import all packages and set plots to be embedded inline\n",
    "import numpy as np\n",
    "import pandas as pd\n",
    "import matplotlib.pyplot as plt\n",
    "import seaborn as sb\n",
    "\n",
    "%matplotlib inline"
   ]
  },
  {
   "cell_type": "markdown",
   "metadata": {},
   "source": [
    "### Gather"
   ]
  },
  {
   "cell_type": "code",
   "execution_count": 2,
   "metadata": {},
   "outputs": [],
   "source": [
    "# load dataset\n",
    "test = pd.read_csv('exams.csv')"
   ]
  },
  {
   "cell_type": "code",
   "execution_count": 3,
   "metadata": {},
   "outputs": [
    {
     "name": "stdout",
     "output_type": "stream",
     "text": [
      "<class 'pandas.core.frame.DataFrame'>\n",
      "RangeIndex: 1000 entries, 0 to 999\n",
      "Data columns (total 8 columns):\n",
      " #   Column                       Non-Null Count  Dtype \n",
      "---  ------                       --------------  ----- \n",
      " 0   gender                       1000 non-null   object\n",
      " 1   race/ethnicity               1000 non-null   object\n",
      " 2   parental level of education  1000 non-null   object\n",
      " 3   lunch                        1000 non-null   object\n",
      " 4   test preparation course      1000 non-null   object\n",
      " 5   math score                   1000 non-null   int64 \n",
      " 6   reading score                1000 non-null   int64 \n",
      " 7   writing score                1000 non-null   int64 \n",
      "dtypes: int64(3), object(5)\n",
      "memory usage: 62.6+ KB\n"
     ]
    }
   ],
   "source": [
    "# assess dataframe\n",
    "test.info()"
   ]
  },
  {
   "cell_type": "code",
   "execution_count": 4,
   "metadata": {},
   "outputs": [
    {
     "data": {
      "text/plain": [
       "array(['male', 'female'], dtype=object)"
      ]
     },
     "execution_count": 4,
     "metadata": {},
     "output_type": "execute_result"
    }
   ],
   "source": [
    "# check for distinct values within columns with object datatype\n",
    "test['gender'].unique()"
   ]
  },
  {
   "cell_type": "code",
   "execution_count": 5,
   "metadata": {},
   "outputs": [
    {
     "data": {
      "text/plain": [
       "array(['group A', 'group D', 'group E', 'group B', 'group C'],\n",
       "      dtype=object)"
      ]
     },
     "execution_count": 5,
     "metadata": {},
     "output_type": "execute_result"
    }
   ],
   "source": [
    "test['race/ethnicity'].unique()"
   ]
  },
  {
   "cell_type": "code",
   "execution_count": 6,
   "metadata": {},
   "outputs": [
    {
     "data": {
      "text/plain": [
       "array(['high school', 'some high school', 'some college',\n",
       "       \"associate's degree\", \"bachelor's degree\", \"master's degree\"],\n",
       "      dtype=object)"
      ]
     },
     "execution_count": 6,
     "metadata": {},
     "output_type": "execute_result"
    }
   ],
   "source": [
    "test['parental level of education'].unique()"
   ]
  },
  {
   "cell_type": "code",
   "execution_count": 7,
   "metadata": {},
   "outputs": [
    {
     "data": {
      "text/plain": [
       "array(['completed', 'none'], dtype=object)"
      ]
     },
     "execution_count": 7,
     "metadata": {},
     "output_type": "execute_result"
    }
   ],
   "source": [
    "test['test preparation course'].unique()"
   ]
  },
  {
   "cell_type": "markdown",
   "metadata": {},
   "source": [
    "#### Observation\n",
    "**Quality**\n",
    "- inadequate column headers\n",
    "- *parental level of education* datatype is object\n",
    "- no unique identifier for each observation\n",
    "\n",
    "**Tidyness**\n",
    "- two variables form three columns: *math score*, *reading score*, *writing score*"
   ]
  },
  {
   "cell_type": "markdown",
   "metadata": {},
   "source": [
    "### Clean"
   ]
  },
  {
   "cell_type": "code",
   "execution_count": 8,
   "metadata": {},
   "outputs": [],
   "source": [
    "# copy data to a variable \n",
    "test_clean = test.copy()"
   ]
  },
  {
   "cell_type": "markdown",
   "metadata": {},
   "source": [
    "**Inadequate column headers**"
   ]
  },
  {
   "cell_type": "markdown",
   "metadata": {},
   "source": [
    "**Define**\n",
    "\n",
    "Rename columns"
   ]
  },
  {
   "cell_type": "code",
   "execution_count": 9,
   "metadata": {},
   "outputs": [],
   "source": [
    "test_clean.rename(columns = {'race/ethnicity' : 'ethnicity',\n",
    "                            'parental level of education' : 'parent_education',\n",
    "                            'test preparation course' : 'test_prep'}, inplace = True)"
   ]
  },
  {
   "cell_type": "markdown",
   "metadata": {},
   "source": [
    "**Test**"
   ]
  },
  {
   "cell_type": "code",
   "execution_count": 10,
   "metadata": {},
   "outputs": [
    {
     "data": {
      "text/plain": [
       "Index(['gender', 'ethnicity', 'parent_education', 'lunch', 'test_prep',\n",
       "       'math score', 'reading score', 'writing score'],\n",
       "      dtype='object')"
      ]
     },
     "execution_count": 10,
     "metadata": {},
     "output_type": "execute_result"
    }
   ],
   "source": [
    "test_clean.columns"
   ]
  },
  {
   "cell_type": "markdown",
   "metadata": {},
   "source": [
    "**Parental level of education datatype is object**"
   ]
  },
  {
   "cell_type": "markdown",
   "metadata": {},
   "source": [
    "**Define**\n",
    "\n",
    "Convert *parent_education* to CategoricalDtype"
   ]
  },
  {
   "cell_type": "markdown",
   "metadata": {},
   "source": [
    "**Code**"
   ]
  },
  {
   "cell_type": "code",
   "execution_count": 11,
   "metadata": {},
   "outputs": [],
   "source": [
    "# order the values by increasing qualifaction\n",
    "categories = ['some high school', 'high school', 'some college',\n",
    "       \"associate's degree\", \"bachelor's degree\", \"master's degree\"]\n",
    "\n",
    "# create datatype\n",
    "datatype = pd.api.types.CategoricalDtype(categories=categories, ordered=True)\n",
    "\n",
    "# convert series to datatype created\n",
    "test_clean['parent_education'] = test_clean['parent_education'].astype(datatype)"
   ]
  },
  {
   "cell_type": "markdown",
   "metadata": {},
   "source": [
    "**Test**"
   ]
  },
  {
   "cell_type": "code",
   "execution_count": 12,
   "metadata": {},
   "outputs": [
    {
     "data": {
      "text/plain": [
       "CategoricalDtype(categories=['some high school', 'high school', 'some college',\n",
       "                  'associate's degree', 'bachelor's degree',\n",
       "                  'master's degree'],\n",
       ", ordered=True)"
      ]
     },
     "execution_count": 12,
     "metadata": {},
     "output_type": "execute_result"
    }
   ],
   "source": [
    "test_clean['parent_education'].dtype"
   ]
  },
  {
   "cell_type": "markdown",
   "metadata": {},
   "source": [
    "**No unique identifier for each observation**"
   ]
  },
  {
   "cell_type": "markdown",
   "metadata": {},
   "source": [
    "**Define**\n",
    "\n",
    "- Create a new column *id* that identifies each student \n",
    "- Convert *id* to object datatype"
   ]
  },
  {
   "cell_type": "code",
   "execution_count": 13,
   "metadata": {},
   "outputs": [],
   "source": [
    "# create new column\n",
    "test_clean['id'] = test_clean.index + 1\n",
    "# convert to string\n",
    "test_clean['id'] = test_clean['id'].astype(str)"
   ]
  },
  {
   "cell_type": "markdown",
   "metadata": {},
   "source": [
    "**Test**"
   ]
  },
  {
   "cell_type": "code",
   "execution_count": 14,
   "metadata": {},
   "outputs": [
    {
     "data": {
      "text/plain": [
       "dtype('O')"
      ]
     },
     "execution_count": 14,
     "metadata": {},
     "output_type": "execute_result"
    }
   ],
   "source": [
    "test_clean['id'].dtype"
   ]
  },
  {
   "cell_type": "markdown",
   "metadata": {},
   "source": [
    "**Two variables form three columns *math score*, *reading score*, and *writing score***"
   ]
  },
  {
   "cell_type": "markdown",
   "metadata": {},
   "source": [
    "**Define**\n",
    "\n",
    "- Melt *math score*, *reading score*, *writing score* to a *subject* and *score* column\n",
    "- split string in *subject* and delete 'score'"
   ]
  },
  {
   "cell_type": "code",
   "execution_count": 15,
   "metadata": {},
   "outputs": [],
   "source": [
    "# melt columns\n",
    "test_clean = pd.melt(test_clean, id_vars=['id', 'gender', 'ethnicity', 'parent_education', 'lunch', 'test_prep'],\n",
    "                           var_name='subject', value_name='score')"
   ]
  },
  {
   "cell_type": "code",
   "execution_count": 16,
   "metadata": {},
   "outputs": [],
   "source": [
    "# split string\n",
    "test_clean['subject'] = test_clean['subject'].str.split(' ').str[0]"
   ]
  },
  {
   "cell_type": "markdown",
   "metadata": {},
   "source": [
    "**Test**"
   ]
  },
  {
   "cell_type": "code",
   "execution_count": 17,
   "metadata": {},
   "outputs": [
    {
     "data": {
      "text/plain": [
       "array(['math', 'reading', 'writing'], dtype=object)"
      ]
     },
     "execution_count": 17,
     "metadata": {},
     "output_type": "execute_result"
    }
   ],
   "source": [
    "test_clean['subject'].unique()"
   ]
  },
  {
   "cell_type": "code",
   "execution_count": 18,
   "metadata": {},
   "outputs": [
    {
     "name": "stdout",
     "output_type": "stream",
     "text": [
      "(3000, 8)\n",
      "id                    object\n",
      "gender                object\n",
      "ethnicity             object\n",
      "parent_education    category\n",
      "lunch                 object\n",
      "test_prep             object\n",
      "subject               object\n",
      "score                  int64\n",
      "dtype: object\n",
      "             score\n",
      "count  3000.000000\n",
      "mean     67.712000\n",
      "std      15.283529\n",
      "min      13.000000\n",
      "25%      57.000000\n",
      "50%      68.000000\n",
      "75%      78.000000\n",
      "max     100.000000\n"
     ]
    },
    {
     "data": {
      "text/html": [
       "<div>\n",
       "<style scoped>\n",
       "    .dataframe tbody tr th:only-of-type {\n",
       "        vertical-align: middle;\n",
       "    }\n",
       "\n",
       "    .dataframe tbody tr th {\n",
       "        vertical-align: top;\n",
       "    }\n",
       "\n",
       "    .dataframe thead th {\n",
       "        text-align: right;\n",
       "    }\n",
       "</style>\n",
       "<table border=\"1\" class=\"dataframe\">\n",
       "  <thead>\n",
       "    <tr style=\"text-align: right;\">\n",
       "      <th></th>\n",
       "      <th>id</th>\n",
       "      <th>gender</th>\n",
       "      <th>ethnicity</th>\n",
       "      <th>parent_education</th>\n",
       "      <th>lunch</th>\n",
       "      <th>test_prep</th>\n",
       "      <th>subject</th>\n",
       "      <th>score</th>\n",
       "    </tr>\n",
       "  </thead>\n",
       "  <tbody>\n",
       "    <tr>\n",
       "      <th>0</th>\n",
       "      <td>1</td>\n",
       "      <td>male</td>\n",
       "      <td>group A</td>\n",
       "      <td>high school</td>\n",
       "      <td>standard</td>\n",
       "      <td>completed</td>\n",
       "      <td>math</td>\n",
       "      <td>67</td>\n",
       "    </tr>\n",
       "    <tr>\n",
       "      <th>1</th>\n",
       "      <td>2</td>\n",
       "      <td>female</td>\n",
       "      <td>group D</td>\n",
       "      <td>some high school</td>\n",
       "      <td>free/reduced</td>\n",
       "      <td>none</td>\n",
       "      <td>math</td>\n",
       "      <td>40</td>\n",
       "    </tr>\n",
       "    <tr>\n",
       "      <th>2</th>\n",
       "      <td>3</td>\n",
       "      <td>male</td>\n",
       "      <td>group E</td>\n",
       "      <td>some college</td>\n",
       "      <td>free/reduced</td>\n",
       "      <td>none</td>\n",
       "      <td>math</td>\n",
       "      <td>59</td>\n",
       "    </tr>\n",
       "    <tr>\n",
       "      <th>3</th>\n",
       "      <td>4</td>\n",
       "      <td>male</td>\n",
       "      <td>group B</td>\n",
       "      <td>high school</td>\n",
       "      <td>standard</td>\n",
       "      <td>none</td>\n",
       "      <td>math</td>\n",
       "      <td>77</td>\n",
       "    </tr>\n",
       "    <tr>\n",
       "      <th>4</th>\n",
       "      <td>5</td>\n",
       "      <td>male</td>\n",
       "      <td>group E</td>\n",
       "      <td>associate's degree</td>\n",
       "      <td>standard</td>\n",
       "      <td>completed</td>\n",
       "      <td>math</td>\n",
       "      <td>78</td>\n",
       "    </tr>\n",
       "  </tbody>\n",
       "</table>\n",
       "</div>"
      ],
      "text/plain": [
       "  id  gender ethnicity    parent_education         lunch  test_prep subject  \\\n",
       "0  1    male   group A         high school      standard  completed    math   \n",
       "1  2  female   group D    some high school  free/reduced       none    math   \n",
       "2  3    male   group E        some college  free/reduced       none    math   \n",
       "3  4    male   group B         high school      standard       none    math   \n",
       "4  5    male   group E  associate's degree      standard  completed    math   \n",
       "\n",
       "   score  \n",
       "0     67  \n",
       "1     40  \n",
       "2     59  \n",
       "3     77  \n",
       "4     78  "
      ]
     },
     "execution_count": 18,
     "metadata": {},
     "output_type": "execute_result"
    }
   ],
   "source": [
    "# overview of cleaned data\n",
    "print(test_clean.shape)\n",
    "print(test_clean.dtypes)\n",
    "print(test_clean.describe())\n",
    "test_clean.head()"
   ]
  },
  {
   "cell_type": "markdown",
   "metadata": {},
   "source": [
    "### Data Structure\n",
    "\n",
    "The dataset contains 24000 values representing 8 variables and 3000 observations. The variables are:\n",
    "\n",
    "> - id, unique identifier for each student\n",
    "> - gender, with two possible values (male and female).\n",
    "> - ethnicity, with five possible values (group A, group B, group C, group D, and group E).\n",
    "> - parent_education, with six possible values (some high school, high school, some college, associate's degree, bachelor's degree, and master's degree).\n",
    "> - lunch, with two possible values (standard and free/reduced)\n",
    "> - test_prep, with two possible values (completed and none)\n",
    "> - subject, with three possible values (math, writing, and reading)\n",
    "> - score, with a range of values for each subject\n",
    "\n",
    "\n",
    "Main feature of interest is the test outcome of each subject, *score*. Other supporting features are test preparations, gender and socio-economic factors like eligible lunch program, parental level of education, and ethnicity."
   ]
  },
  {
   "cell_type": "markdown",
   "metadata": {},
   "source": [
    "## Univariate Exploration"
   ]
  },
  {
   "cell_type": "markdown",
   "metadata": {},
   "source": [
    "**Let's start our exploration by looking at the main variable of interest: score. Is the distribution skewed or symmetric? Is it unimodal, or multimodal?**"
   ]
  },
  {
   "cell_type": "code",
   "execution_count": 19,
   "metadata": {},
   "outputs": [
    {
     "data": {
      "image/png": "[encoded data removed]",
      "text/plain": [
       "<Figure size 432x288 with 1 Axes>"
      ]
     },
     "metadata": {
      "needs_background": "light"
     },
     "output_type": "display_data"
    }
   ],
   "source": [
    "plt.hist(data = test_clean, x = 'score', bins = 11)\n",
    "plt.title('Distribution of Test Scores')\n",
    "plt.xlabel('Scores')\n",
    "plt.ylabel('Count');"
   ]
  },
  {
   "cell_type": "markdown",
   "metadata": {},
   "source": [
    "**Observation**\n",
    "\n",
    "Here we can see a non-uniform distribution of data points in different bins. Overall, a generally bimodal and slightly left-skewed distribution is observed."
   ]
  },
  {
   "cell_type": "markdown",
   "metadata": {},
   "source": [
    "**Next, lets plot our first supporting feature: test_prep. Is there a significant difference between the status of preparation?**"
   ]
  },
  {
   "cell_type": "code",
   "execution_count": 20,
   "metadata": {},
   "outputs": [
    {
     "data": {
      "image/png": "[encoded data removed]",
      "text/plain": [
       "<Figure size 432x288 with 1 Axes>"
      ]
     },
     "metadata": {
      "needs_background": "light"
     },
     "output_type": "display_data"
    }
   ],
   "source": [
    "# set uniform color for each bar\n",
    "base_color = sb.color_palette()[0]\n",
    "\n",
    "# set each bar in descending order\n",
    "freq = test_clean['test_prep'].value_counts().index\n",
    "\n",
    "# plot data\n",
    "sb.countplot(data = test_clean, x = 'test_prep', color = base_color, order = freq)\n",
    "plt.title('Test Preparations')\n",
    "plt.xlabel('Status')\n",
    "plt.ylabel('Count');"
   ]
  },
  {
   "cell_type": "markdown",
   "metadata": {},
   "source": [
    "**Observation**\n",
    "\n",
    "The bar chart shows the mode status for test preparations are students that did not have any test preparation"
   ]
  },
  {
   "cell_type": "markdown",
   "metadata": {},
   "source": [
    "**For the distribution of subjects. Are all subjects equally represented? Is the distribution symmetrical?**"
   ]
  },
  {
   "cell_type": "code",
   "execution_count": 21,
   "metadata": {},
   "outputs": [
    {
     "data": {
      "image/png": "[encoded data removed]",
      "text/plain": [
       "<Figure size 432x288 with 1 Axes>"
      ]
     },
     "metadata": {
      "needs_background": "light"
     },
     "output_type": "display_data"
    }
   ],
   "source": [
    "sb.countplot(data = test_clean, x = 'subject', color = base_color)\n",
    "plt.title('Test Areas')\n",
    "plt.xlabel('Subjects')\n",
    "plt.ylabel('Count');"
   ]
  },
  {
   "cell_type": "markdown",
   "metadata": {},
   "source": [
    "**Observation**\n",
    "\n",
    "We can observe a uniform distribution of each subject. Students are tested in all subject represented in the dataset "
   ]
  },
  {
   "cell_type": "markdown",
   "metadata": {},
   "source": [
    "**Next, let's examine *gender* distribution of the students**"
   ]
  },
  {
   "cell_type": "code",
   "execution_count": 22,
   "metadata": {},
   "outputs": [
    {
     "data": {
      "image/png": "[encoded data removed]",
      "text/plain": [
       "<Figure size 432x288 with 1 Axes>"
      ]
     },
     "metadata": {
      "needs_background": "light"
     },
     "output_type": "display_data"
    }
   ],
   "source": [
    "freq_g = test_clean['gender'].value_counts().index\n",
    "sb.countplot(data = test_clean, x = 'gender', color = base_color, order = freq_g)\n",
    "plt.title('Gender Distribution')\n",
    "plt.xlabel('Gender')\n",
    "plt.ylabel('Count');"
   ]
  },
  {
   "cell_type": "markdown",
   "metadata": {},
   "source": [
    "**Observation**\n",
    "\n",
    "The distribution is roughly unimodal, with the data representing more male than female students, although having little significant difference."
   ]
  },
  {
   "cell_type": "markdown",
   "metadata": {},
   "source": [
    "**Now, we are going to explore our socio-economic measures: lunch, parent_education, and ethnicity. For each of these measures, are there any unusual points or patterns?**"
   ]
  },
  {
   "cell_type": "code",
   "execution_count": 23,
   "metadata": {},
   "outputs": [
    {
     "data": {
      "image/png": "[encoded data removed]",
      "text/plain": [
       "<Figure size 1440x360 with 3 Axes>"
      ]
     },
     "metadata": {
      "needs_background": "light"
     },
     "output_type": "display_data"
    }
   ],
   "source": [
    "plt.figure(figsize = [20, 5])\n",
    "# 1st plot\n",
    "plt.subplot(1,3,1)\n",
    "freq_l = test_clean.lunch.value_counts().index\n",
    "sb.countplot(data = test_clean, x = 'lunch', color = base_color, order = freq_l)\n",
    "plt.title('Student Lunch Program')\n",
    "plt.xlabel('Lunch plan')\n",
    "plt.ylabel('Count')\n",
    "\n",
    "# 2nd plot\n",
    "plt.subplot(1,3,2)\n",
    "sb.countplot(data = test_clean, x = 'parent_education', color = base_color)\n",
    "plt.xticks(rotation = 45)\n",
    "plt.title('Parental Education Level')\n",
    "plt.xlabel('Education')\n",
    "plt.ylabel('Count')\n",
    "\n",
    "# 3rd plot\n",
    "plt.subplot(1,3,3)\n",
    "freq_e = test_clean.ethnicity.value_counts().index\n",
    "sb.countplot(data = test_clean, x = 'ethnicity', color = base_color, order = freq_e)\n",
    "plt.title('Student Ethnic Groups')\n",
    "plt.xlabel('Ethnicity')\n",
    "plt.ylabel('Count');"
   ]
  },
  {
   "cell_type": "markdown",
   "metadata": {},
   "source": [
    "**Observation**\n",
    "\n",
    "**Student Lunch Program** : The most common lunch plan in the dataset is Standard. The difference in frequency is almost twice the antimodal lunch plan\n",
    "\n",
    "**Parental Education Level** : There is a right skew in data represented. The distribution is bimodal, with the most common Education level belonging to some college, high school, and associate's degree. \n",
    "\n",
    "**Student Ethnic Groups** : The chart shows the mode ethnicity for students in the dataset is group C. There is a consistent decrease in the representation of each ethnic group."
   ]
  },
  {
   "cell_type": "markdown",
   "metadata": {},
   "source": [
    "## Bivariate Exploration\n",
    "\n",
    "Now, lets investigate relationships between pairs of each variable explored in our univariate section. Particularly, how each of them relate to test outcomes, *Score*"
   ]
  },
  {
   "cell_type": "markdown",
   "metadata": {},
   "source": [
    "**To begin, let's see the relationship between *score* and *test_prep*. Is there a significant effect when a student takes a preparatory course?**"
   ]
  },
  {
   "cell_type": "code",
   "execution_count": 24,
   "metadata": {},
   "outputs": [],
   "source": [
    "# define function\n",
    "def violingrid(data, x, y, **kwargs):\n",
    "    \"\"\" Quick hack for creating violin plots with seaborn's PairGrid. \"\"\"\n",
    "    ax = sb.violinplot(data = data, x=x, y=y, color=base_color)\n",
    "    ax.tick_params(rotation=90)"
   ]
  },
  {
   "cell_type": "code",
   "execution_count": 25,
   "metadata": {},
   "outputs": [
    {
     "data": {
      "image/png": "[encoded data removed]",
      "text/plain": [
       "<Figure size 432x288 with 1 Axes>"
      ]
     },
     "metadata": {
      "needs_background": "light"
     },
     "output_type": "display_data"
    }
   ],
   "source": [
    "# plot with function\n",
    "violingrid(test_clean,'test_prep', 'score')\n",
    "plt.xticks(rotation=0)\n",
    "plt.title('Test Scores by Preparation Status')\n",
    "plt.xlabel('Preparation Status')\n",
    "plt.ylabel('Test Scores');"
   ]
  },
  {
   "cell_type": "markdown",
   "metadata": {},
   "source": [
    "**Observation**\n",
    "\n",
    "This violin plot represents a relationship between test preparations and test scores. The box plot element shows the median score of students that completed a test preparation course to be higher than students without test preparations. The plot also shows the highest score for each preparation status as 100, but the shape of the distribution at the peak of the variables indicates a higher probability for students that completed a test preparation course to attain that highest score."
   ]
  },
  {
   "cell_type": "markdown",
   "metadata": {},
   "source": [
    "**Next, let's observe the test outcome of each subject. Are students exceling more in a particular subject?**"
   ]
  },
  {
   "cell_type": "code",
   "execution_count": 26,
   "metadata": {},
   "outputs": [
    {
     "data": {
      "image/png": "[encoded data removed]",
      "text/plain": [
       "<Figure size 432x288 with 1 Axes>"
      ]
     },
     "metadata": {
      "needs_background": "light"
     },
     "output_type": "display_data"
    }
   ],
   "source": [
    "# define function\n",
    "def boxgrid(data, x, y, **kwargs):\n",
    "    \"\"\" Quick hack for creating box plots with seaborn's PairGrid. \"\"\"\n",
    "    ax = sb.boxplot(data = data, x=x, y=y, color=base_color)               \n",
    "    ax.tick_params(rotation=90)\n",
    "# plot with function\n",
    "boxgrid(test_clean, 'subject', 'score')\n",
    "plt.title('Test Scores by Subject')\n",
    "plt.xlabel('Subject')\n",
    "plt.ylabel('Test Scores')\n",
    "plt.xticks(rotation = 0);"
   ]
  },
  {
   "cell_type": "markdown",
   "metadata": {},
   "source": [
    "**Observation**\n",
    "\n",
    "Comparing the median score of each subject, we can observe student's score more in reading tests than writing and math tests. The lower whiskers also shows math tests tend to have the lowest scores. There are also points below the lower whiskers that indicate outliers."
   ]
  },
  {
   "cell_type": "markdown",
   "metadata": {},
   "source": [
    "**Does Gender play a role in the variation of test scores? Let's examine this relationship**"
   ]
  },
  {
   "cell_type": "code",
   "execution_count": 27,
   "metadata": {},
   "outputs": [
    {
     "data": {
      "image/png": "[encoded data removed]",
      "text/plain": [
       "<Figure size 432x288 with 1 Axes>"
      ]
     },
     "metadata": {
      "needs_background": "light"
     },
     "output_type": "display_data"
    }
   ],
   "source": [
    "violingrid(test_clean, 'gender','score')\n",
    "plt.xticks(rotation = 0)\n",
    "plt.title('Test Scores by Gender')\n",
    "plt.xlabel('Gender')\n",
    "plt.ylabel('Count');"
   ]
  },
  {
   "cell_type": "markdown",
   "metadata": {},
   "source": [
    "**Observation**\n",
    "\n",
    "Here, we can see a slightly higher median test score for female students with a wider distribution of points between the 80-100 mark. Also, the long tail at the bottom for female students indicates outliers with the lowest scores"
   ]
  },
  {
   "cell_type": "markdown",
   "metadata": {},
   "source": [
    "**Now let's take a look at the relationship between score and the three socio-economic features: *lunch*, *parent_education*, and *ethnicity*. Are there any interesting trends to be seen here?**"
   ]
  },
  {
   "cell_type": "code",
   "execution_count": 28,
   "metadata": {},
   "outputs": [
    {
     "data": {
      "image/png": "[encoded data removed]",
      "text/plain": [
       "<Figure size 1440x360 with 3 Axes>"
      ]
     },
     "metadata": {
      "needs_background": "light"
     },
     "output_type": "display_data"
    }
   ],
   "source": [
    "plt.figure(figsize = [20, 5])\n",
    "\n",
    "# 1st feature\n",
    "plt.subplot(1,3,1)\n",
    "violingrid(test_clean, 'lunch', 'score')\n",
    "plt.title('Test Scores by Lunch Plan')\n",
    "plt.xlabel('Plan')\n",
    "plt.ylabel('Score')\n",
    "\n",
    "# 2nd feature\n",
    "plt.subplot(1,3,2)\n",
    "boxgrid(test_clean, 'parent_education', 'score')\n",
    "plt.title('Test Scores by Parent Education Level')\n",
    "plt.xlabel('Education Level')\n",
    "plt.ylabel('Score')\n",
    "\n",
    "# 3rd feature\n",
    "plt.subplot(1,3,3)\n",
    "ethnic_pop = ['group A', 'group B', 'group C', 'group D', 'group E'] #set plot order to alphabetic order\n",
    "sb.boxplot(data = test_clean, x = 'ethnicity', y = 'score', order = ethnic_pop, color = base_color)\n",
    "plt.title('Test Scores by Ethnicity')\n",
    "plt.xlabel('Ethnic Group')\n",
    "plt.ylabel('Score');"
   ]
  },
  {
   "cell_type": "markdown",
   "metadata": {},
   "source": [
    "**Observation**\n",
    "\n",
    "**Test Scores by Lunch** : We can observe the median score for students with a standard lunch plan are notably higher than students eligible for free/reduced lunch plan. The distribution of points at the highest scores are denser for standard than free/reduced plan.\n",
    "\n",
    "**Test Scores by Parent Education Level** : There's an increasing consistency in test scores as the parent level of education advances, with outlier points present in the most common levels of parent education.\n",
    "\n",
    "**Test Scores by Ethnicity** : The distribution of scores within each ethnic group, shows no particular pattern, but we can observe some outlier points within the three most common groups."
   ]
  },
  {
   "cell_type": "markdown",
   "metadata": {},
   "source": [
    "Before we complete the bivariate exploration, we should take a look at some of the relationships between the independent variables. Namely, how does test preparation change across Gender and the three socio-economic measures. In comparing the variables, the outcome of 'test_prep' will be dependent on the other variables, to prevent the distribution of its values affecting the results of the plot, I will use relative frequencies for clear comparisons "
   ]
  },
  {
   "cell_type": "markdown",
   "metadata": {},
   "source": [
    "**Test Preparation by Gender**"
   ]
  },
  {
   "cell_type": "code",
   "execution_count": 29,
   "metadata": {},
   "outputs": [],
   "source": [
    "# group data by gender and test_prep to get the counts of each test prep by gender\n",
    "gender_prep = test_clean.groupby(['gender', 'test_prep']).count()"
   ]
  },
  {
   "cell_type": "code",
   "execution_count": 30,
   "metadata": {},
   "outputs": [
    {
     "data": {
      "image/png": "[encoded data removed]",
      "text/plain": [
       "<Figure size 432x288 with 2 Axes>"
      ]
     },
     "metadata": {
      "needs_background": "light"
     },
     "output_type": "display_data"
    }
   ],
   "source": [
    "# create dataframe with values for plot\n",
    "df = pd.DataFrame({'gender': ['Male', 'Female'] , 'none' : [1026, 969], 'completed' : [525, 480]}).set_index('gender')\n",
    "\n",
    "# function for max proportion, and dropping columns not needed \n",
    "def max_prop(df_e, series, series_1):\n",
    "    df_e['sum'] = series + series_1\n",
    "    df_e['None'] = series/df_e['sum']\n",
    "    df_e['Completed'] = series_1/df_e['sum']\n",
    "    x = series.name\n",
    "    y = series_1.name\n",
    "    z = df_e['sum'].name\n",
    "    df_e.drop([x, y, z], axis = 1, inplace = True)\n",
    "\n",
    "# return max proportion    \n",
    "max_prop(df, df['none'], df['completed'])\n",
    "df = df.transpose() # to place the Gender on the x-axis\n",
    "\n",
    "# function for heat map\n",
    "def heatgrid(data, **kwargs):\n",
    "    ax = sb.heatmap(data = data, annot = True, cmap=sb.cubehelix_palette(as_cmap=True))               \n",
    "\n",
    "# plot heatmap\n",
    "heatgrid(df)\n",
    "plt.title('Test Preparation by Gender')\n",
    "plt.xlabel('Gender')\n",
    "plt.ylabel('Status');"
   ]
  },
  {
   "cell_type": "markdown",
   "metadata": {},
   "source": [
    "**Observation**\n",
    "\n",
    "The heat map shows the proportion of Gender by status of Test Preparations. With a 1% difference in each group, there isn't any significant effect in test preparations relative to the gender of the student."
   ]
  },
  {
   "cell_type": "markdown",
   "metadata": {},
   "source": [
    "**Test Preparation by Lunch**"
   ]
  },
  {
   "cell_type": "code",
   "execution_count": 31,
   "metadata": {},
   "outputs": [
    {
     "data": {
      "text/html": [
       "<div>\n",
       "<style scoped>\n",
       "    .dataframe tbody tr th:only-of-type {\n",
       "        vertical-align: middle;\n",
       "    }\n",
       "\n",
       "    .dataframe tbody tr th {\n",
       "        vertical-align: top;\n",
       "    }\n",
       "\n",
       "    .dataframe thead th {\n",
       "        text-align: right;\n",
       "    }\n",
       "</style>\n",
       "<table border=\"1\" class=\"dataframe\">\n",
       "  <thead>\n",
       "    <tr style=\"text-align: right;\">\n",
       "      <th></th>\n",
       "      <th></th>\n",
       "      <th>id</th>\n",
       "      <th>gender</th>\n",
       "      <th>ethnicity</th>\n",
       "      <th>parent_education</th>\n",
       "      <th>subject</th>\n",
       "      <th>score</th>\n",
       "    </tr>\n",
       "    <tr>\n",
       "      <th>lunch</th>\n",
       "      <th>test_prep</th>\n",
       "      <th></th>\n",
       "      <th></th>\n",
       "      <th></th>\n",
       "      <th></th>\n",
       "      <th></th>\n",
       "      <th></th>\n",
       "    </tr>\n",
       "  </thead>\n",
       "  <tbody>\n",
       "    <tr>\n",
       "      <th rowspan=\"2\" valign=\"top\">free/reduced</th>\n",
       "      <th>completed</th>\n",
       "      <td>330</td>\n",
       "      <td>330</td>\n",
       "      <td>330</td>\n",
       "      <td>330</td>\n",
       "      <td>330</td>\n",
       "      <td>330</td>\n",
       "    </tr>\n",
       "    <tr>\n",
       "      <th>none</th>\n",
       "      <td>714</td>\n",
       "      <td>714</td>\n",
       "      <td>714</td>\n",
       "      <td>714</td>\n",
       "      <td>714</td>\n",
       "      <td>714</td>\n",
       "    </tr>\n",
       "    <tr>\n",
       "      <th rowspan=\"2\" valign=\"top\">standard</th>\n",
       "      <th>completed</th>\n",
       "      <td>675</td>\n",
       "      <td>675</td>\n",
       "      <td>675</td>\n",
       "      <td>675</td>\n",
       "      <td>675</td>\n",
       "      <td>675</td>\n",
       "    </tr>\n",
       "    <tr>\n",
       "      <th>none</th>\n",
       "      <td>1281</td>\n",
       "      <td>1281</td>\n",
       "      <td>1281</td>\n",
       "      <td>1281</td>\n",
       "      <td>1281</td>\n",
       "      <td>1281</td>\n",
       "    </tr>\n",
       "  </tbody>\n",
       "</table>\n",
       "</div>"
      ],
      "text/plain": [
       "                          id  gender  ethnicity  parent_education  subject  \\\n",
       "lunch        test_prep                                                       \n",
       "free/reduced completed   330     330        330               330      330   \n",
       "             none        714     714        714               714      714   \n",
       "standard     completed   675     675        675               675      675   \n",
       "             none       1281    1281       1281              1281     1281   \n",
       "\n",
       "                        score  \n",
       "lunch        test_prep         \n",
       "free/reduced completed    330  \n",
       "             none         714  \n",
       "standard     completed    675  \n",
       "             none        1281  "
      ]
     },
     "execution_count": 31,
     "metadata": {},
     "output_type": "execute_result"
    }
   ],
   "source": [
    "lunch_prep = test_clean.groupby(['lunch', 'test_prep']).count()\n",
    "lunch_prep"
   ]
  },
  {
   "cell_type": "code",
   "execution_count": 32,
   "metadata": {},
   "outputs": [
    {
     "data": {
      "image/png": "[encoded data removed]",
      "text/plain": [
       "<Figure size 432x288 with 2 Axes>"
      ]
     },
     "metadata": {
      "needs_background": "light"
     },
     "output_type": "display_data"
    }
   ],
   "source": [
    "# create dataframe with values for plot\n",
    "df1 = pd.DataFrame({'lunch': ['standard', 'reduced/free'] , 'none' : [1281, 714], 'completed' : [675, 330]}).set_index('lunch')\n",
    "\n",
    "# calculate for proportions\n",
    "max_prop(df1, df1['none'], df1['completed'])\n",
    "df1 = df1.transpose() # to place the Lunch Plan on the x-axis\n",
    "\n",
    "# plot\n",
    "heatgrid(df1)\n",
    "plt.title('Test Preparation by Lunch Plan')\n",
    "plt.xlabel('Plan')\n",
    "plt.ylabel('Status');"
   ]
  },
  {
   "cell_type": "markdown",
   "metadata": {},
   "source": [
    "**Observation**\n",
    "\n",
    "There's a 3% increase of completed test preparations in the sample of students that fit the standard lunch plan, and 3% increase in no test preparations with students that fit the reduced/free lunch plans."
   ]
  },
  {
   "cell_type": "markdown",
   "metadata": {},
   "source": [
    "**Test Preparations by Parent_Education**"
   ]
  },
  {
   "cell_type": "code",
   "execution_count": 33,
   "metadata": {
    "scrolled": true
   },
   "outputs": [
    {
     "data": {
      "text/html": [
       "<div>\n",
       "<style scoped>\n",
       "    .dataframe tbody tr th:only-of-type {\n",
       "        vertical-align: middle;\n",
       "    }\n",
       "\n",
       "    .dataframe tbody tr th {\n",
       "        vertical-align: top;\n",
       "    }\n",
       "\n",
       "    .dataframe thead th {\n",
       "        text-align: right;\n",
       "    }\n",
       "</style>\n",
       "<table border=\"1\" class=\"dataframe\">\n",
       "  <thead>\n",
       "    <tr style=\"text-align: right;\">\n",
       "      <th></th>\n",
       "      <th></th>\n",
       "      <th>id</th>\n",
       "      <th>gender</th>\n",
       "      <th>ethnicity</th>\n",
       "      <th>lunch</th>\n",
       "      <th>subject</th>\n",
       "      <th>score</th>\n",
       "    </tr>\n",
       "    <tr>\n",
       "      <th>parent_education</th>\n",
       "      <th>test_prep</th>\n",
       "      <th></th>\n",
       "      <th></th>\n",
       "      <th></th>\n",
       "      <th></th>\n",
       "      <th></th>\n",
       "      <th></th>\n",
       "    </tr>\n",
       "  </thead>\n",
       "  <tbody>\n",
       "    <tr>\n",
       "      <th rowspan=\"2\" valign=\"top\">some high school</th>\n",
       "      <th>completed</th>\n",
       "      <td>189</td>\n",
       "      <td>189</td>\n",
       "      <td>189</td>\n",
       "      <td>189</td>\n",
       "      <td>189</td>\n",
       "      <td>189</td>\n",
       "    </tr>\n",
       "    <tr>\n",
       "      <th>none</th>\n",
       "      <td>384</td>\n",
       "      <td>384</td>\n",
       "      <td>384</td>\n",
       "      <td>384</td>\n",
       "      <td>384</td>\n",
       "      <td>384</td>\n",
       "    </tr>\n",
       "    <tr>\n",
       "      <th rowspan=\"2\" valign=\"top\">high school</th>\n",
       "      <th>completed</th>\n",
       "      <td>171</td>\n",
       "      <td>171</td>\n",
       "      <td>171</td>\n",
       "      <td>171</td>\n",
       "      <td>171</td>\n",
       "      <td>171</td>\n",
       "    </tr>\n",
       "    <tr>\n",
       "      <th>none</th>\n",
       "      <td>435</td>\n",
       "      <td>435</td>\n",
       "      <td>435</td>\n",
       "      <td>435</td>\n",
       "      <td>435</td>\n",
       "      <td>435</td>\n",
       "    </tr>\n",
       "    <tr>\n",
       "      <th rowspan=\"2\" valign=\"top\">some college</th>\n",
       "      <th>completed</th>\n",
       "      <td>246</td>\n",
       "      <td>246</td>\n",
       "      <td>246</td>\n",
       "      <td>246</td>\n",
       "      <td>246</td>\n",
       "      <td>246</td>\n",
       "    </tr>\n",
       "    <tr>\n",
       "      <th>none</th>\n",
       "      <td>420</td>\n",
       "      <td>420</td>\n",
       "      <td>420</td>\n",
       "      <td>420</td>\n",
       "      <td>420</td>\n",
       "      <td>420</td>\n",
       "    </tr>\n",
       "    <tr>\n",
       "      <th rowspan=\"2\" valign=\"top\">associate's degree</th>\n",
       "      <th>completed</th>\n",
       "      <td>225</td>\n",
       "      <td>225</td>\n",
       "      <td>225</td>\n",
       "      <td>225</td>\n",
       "      <td>225</td>\n",
       "      <td>225</td>\n",
       "    </tr>\n",
       "    <tr>\n",
       "      <th>none</th>\n",
       "      <td>384</td>\n",
       "      <td>384</td>\n",
       "      <td>384</td>\n",
       "      <td>384</td>\n",
       "      <td>384</td>\n",
       "      <td>384</td>\n",
       "    </tr>\n",
       "    <tr>\n",
       "      <th rowspan=\"2\" valign=\"top\">bachelor's degree</th>\n",
       "      <th>completed</th>\n",
       "      <td>117</td>\n",
       "      <td>117</td>\n",
       "      <td>117</td>\n",
       "      <td>117</td>\n",
       "      <td>117</td>\n",
       "      <td>117</td>\n",
       "    </tr>\n",
       "    <tr>\n",
       "      <th>none</th>\n",
       "      <td>219</td>\n",
       "      <td>219</td>\n",
       "      <td>219</td>\n",
       "      <td>219</td>\n",
       "      <td>219</td>\n",
       "      <td>219</td>\n",
       "    </tr>\n",
       "    <tr>\n",
       "      <th rowspan=\"2\" valign=\"top\">master's degree</th>\n",
       "      <th>completed</th>\n",
       "      <td>57</td>\n",
       "      <td>57</td>\n",
       "      <td>57</td>\n",
       "      <td>57</td>\n",
       "      <td>57</td>\n",
       "      <td>57</td>\n",
       "    </tr>\n",
       "    <tr>\n",
       "      <th>none</th>\n",
       "      <td>153</td>\n",
       "      <td>153</td>\n",
       "      <td>153</td>\n",
       "      <td>153</td>\n",
       "      <td>153</td>\n",
       "      <td>153</td>\n",
       "    </tr>\n",
       "  </tbody>\n",
       "</table>\n",
       "</div>"
      ],
      "text/plain": [
       "                               id  gender  ethnicity  lunch  subject  score\n",
       "parent_education   test_prep                                               \n",
       "some high school   completed  189     189        189    189      189    189\n",
       "                   none       384     384        384    384      384    384\n",
       "high school        completed  171     171        171    171      171    171\n",
       "                   none       435     435        435    435      435    435\n",
       "some college       completed  246     246        246    246      246    246\n",
       "                   none       420     420        420    420      420    420\n",
       "associate's degree completed  225     225        225    225      225    225\n",
       "                   none       384     384        384    384      384    384\n",
       "bachelor's degree  completed  117     117        117    117      117    117\n",
       "                   none       219     219        219    219      219    219\n",
       "master's degree    completed   57      57         57     57       57     57\n",
       "                   none       153     153        153    153      153    153"
      ]
     },
     "execution_count": 33,
     "metadata": {},
     "output_type": "execute_result"
    }
   ],
   "source": [
    "parent_prep = test_clean.groupby(['parent_education', 'test_prep']).count()\n",
    "parent_prep"
   ]
  },
  {
   "cell_type": "code",
   "execution_count": 34,
   "metadata": {},
   "outputs": [
    {
     "data": {
      "image/png": "[encoded data removed]",
      "text/plain": [
       "<Figure size 432x288 with 2 Axes>"
      ]
     },
     "metadata": {
      "needs_background": "light"
     },
     "output_type": "display_data"
    }
   ],
   "source": [
    "# create dataframe with values for plot\n",
    "df2 = pd.DataFrame({'level': ['some highschool', 'highschool', 'some college', \"associate's degree\", \"bachelor's degree\", \"master's degree\"] , 'none' : [384, 435, 420, 384, 219, 153], 'completed' : [189, 171, 246, 225, 117, 57]}).set_index('level')\n",
    "\n",
    "# calculate for proportions\n",
    "max_prop(df2, df2['none'], df2['completed'])\n",
    "df2 = df2.transpose() # to place the parent level of education on the x-axis\n",
    "\n",
    "# plot\n",
    "heatgrid(df2)\n",
    "plt.title('Test Preparation by Parent Education Level')\n",
    "plt.xlabel('Levels')\n",
    "plt.ylabel('Status');"
   ]
  },
  {
   "cell_type": "markdown",
   "metadata": {},
   "source": [
    "**Observation**\n",
    "\n",
    "Interestingly, parents with master's degree have the lowest rate of students completing preparation courses"
   ]
  },
  {
   "cell_type": "markdown",
   "metadata": {},
   "source": [
    "**Test Preparations by Ethnicity**"
   ]
  },
  {
   "cell_type": "code",
   "execution_count": 35,
   "metadata": {},
   "outputs": [
    {
     "data": {
      "text/html": [
       "<div>\n",
       "<style scoped>\n",
       "    .dataframe tbody tr th:only-of-type {\n",
       "        vertical-align: middle;\n",
       "    }\n",
       "\n",
       "    .dataframe tbody tr th {\n",
       "        vertical-align: top;\n",
       "    }\n",
       "\n",
       "    .dataframe thead th {\n",
       "        text-align: right;\n",
       "    }\n",
       "</style>\n",
       "<table border=\"1\" class=\"dataframe\">\n",
       "  <thead>\n",
       "    <tr style=\"text-align: right;\">\n",
       "      <th></th>\n",
       "      <th></th>\n",
       "      <th>id</th>\n",
       "      <th>gender</th>\n",
       "      <th>parent_education</th>\n",
       "      <th>lunch</th>\n",
       "      <th>subject</th>\n",
       "      <th>score</th>\n",
       "    </tr>\n",
       "    <tr>\n",
       "      <th>ethnicity</th>\n",
       "      <th>test_prep</th>\n",
       "      <th></th>\n",
       "      <th></th>\n",
       "      <th></th>\n",
       "      <th></th>\n",
       "      <th></th>\n",
       "      <th></th>\n",
       "    </tr>\n",
       "  </thead>\n",
       "  <tbody>\n",
       "    <tr>\n",
       "      <th rowspan=\"2\" valign=\"top\">group A</th>\n",
       "      <th>completed</th>\n",
       "      <td>96</td>\n",
       "      <td>96</td>\n",
       "      <td>96</td>\n",
       "      <td>96</td>\n",
       "      <td>96</td>\n",
       "      <td>96</td>\n",
       "    </tr>\n",
       "    <tr>\n",
       "      <th>none</th>\n",
       "      <td>141</td>\n",
       "      <td>141</td>\n",
       "      <td>141</td>\n",
       "      <td>141</td>\n",
       "      <td>141</td>\n",
       "      <td>141</td>\n",
       "    </tr>\n",
       "    <tr>\n",
       "      <th rowspan=\"2\" valign=\"top\">group B</th>\n",
       "      <th>completed</th>\n",
       "      <td>216</td>\n",
       "      <td>216</td>\n",
       "      <td>216</td>\n",
       "      <td>216</td>\n",
       "      <td>216</td>\n",
       "      <td>216</td>\n",
       "    </tr>\n",
       "    <tr>\n",
       "      <th>none</th>\n",
       "      <td>399</td>\n",
       "      <td>399</td>\n",
       "      <td>399</td>\n",
       "      <td>399</td>\n",
       "      <td>399</td>\n",
       "      <td>399</td>\n",
       "    </tr>\n",
       "    <tr>\n",
       "      <th rowspan=\"2\" valign=\"top\">group C</th>\n",
       "      <th>completed</th>\n",
       "      <td>306</td>\n",
       "      <td>306</td>\n",
       "      <td>306</td>\n",
       "      <td>306</td>\n",
       "      <td>306</td>\n",
       "      <td>306</td>\n",
       "    </tr>\n",
       "    <tr>\n",
       "      <th>none</th>\n",
       "      <td>663</td>\n",
       "      <td>663</td>\n",
       "      <td>663</td>\n",
       "      <td>663</td>\n",
       "      <td>663</td>\n",
       "      <td>663</td>\n",
       "    </tr>\n",
       "    <tr>\n",
       "      <th rowspan=\"2\" valign=\"top\">group D</th>\n",
       "      <th>completed</th>\n",
       "      <td>252</td>\n",
       "      <td>252</td>\n",
       "      <td>252</td>\n",
       "      <td>252</td>\n",
       "      <td>252</td>\n",
       "      <td>252</td>\n",
       "    </tr>\n",
       "    <tr>\n",
       "      <th>none</th>\n",
       "      <td>534</td>\n",
       "      <td>534</td>\n",
       "      <td>534</td>\n",
       "      <td>534</td>\n",
       "      <td>534</td>\n",
       "      <td>534</td>\n",
       "    </tr>\n",
       "    <tr>\n",
       "      <th rowspan=\"2\" valign=\"top\">group E</th>\n",
       "      <th>completed</th>\n",
       "      <td>135</td>\n",
       "      <td>135</td>\n",
       "      <td>135</td>\n",
       "      <td>135</td>\n",
       "      <td>135</td>\n",
       "      <td>135</td>\n",
       "    </tr>\n",
       "    <tr>\n",
       "      <th>none</th>\n",
       "      <td>258</td>\n",
       "      <td>258</td>\n",
       "      <td>258</td>\n",
       "      <td>258</td>\n",
       "      <td>258</td>\n",
       "      <td>258</td>\n",
       "    </tr>\n",
       "  </tbody>\n",
       "</table>\n",
       "</div>"
      ],
      "text/plain": [
       "                      id  gender  parent_education  lunch  subject  score\n",
       "ethnicity test_prep                                                      \n",
       "group A   completed   96      96                96     96       96     96\n",
       "          none       141     141               141    141      141    141\n",
       "group B   completed  216     216               216    216      216    216\n",
       "          none       399     399               399    399      399    399\n",
       "group C   completed  306     306               306    306      306    306\n",
       "          none       663     663               663    663      663    663\n",
       "group D   completed  252     252               252    252      252    252\n",
       "          none       534     534               534    534      534    534\n",
       "group E   completed  135     135               135    135      135    135\n",
       "          none       258     258               258    258      258    258"
      ]
     },
     "execution_count": 35,
     "metadata": {},
     "output_type": "execute_result"
    }
   ],
   "source": [
    "ethnicity_prep = test_clean.groupby(['ethnicity', 'test_prep']).count()\n",
    "ethnicity_prep"
   ]
  },
  {
   "cell_type": "code",
   "execution_count": 36,
   "metadata": {},
   "outputs": [
    {
     "data": {
      "image/png": "[encoded data removed]",
      "text/plain": [
       "<Figure size 432x288 with 2 Axes>"
      ]
     },
     "metadata": {
      "needs_background": "light"
     },
     "output_type": "display_data"
    }
   ],
   "source": [
    "# create dataframe with values for plot\n",
    "df3 = pd.DataFrame({'ethnicity': ['group A', 'group B', 'group C', 'group D', 'group E'] , 'none' : [141, 399, 663, 534, 258], 'completed' : [96, 216, 306, 252, 135]}).set_index('ethnicity')\n",
    "\n",
    "# calculate for proportions\n",
    "max_prop(df3, df3['none'], df3['completed'])\n",
    "df3 = df3.transpose() # to place the Ethnicity on the x-axis\n",
    "\n",
    "# plot\n",
    "heatgrid(df3)\n",
    "plt.title('Test Preparation by Ethnicity')\n",
    "plt.xlabel('Ethnicity')\n",
    "plt.ylabel('Status');"
   ]
  },
  {
   "cell_type": "markdown",
   "metadata": {},
   "source": [
    "**Observation**\n",
    "\n",
    "We can observe that the least dominant ethnic group, group A has the highest rate of students that completed test preparation courses"
   ]
  },
  {
   "cell_type": "markdown",
   "metadata": {},
   "source": [
    "## Multivariate Exploration\n",
    "\n",
    "In the previous sections, we observed the median test score increased with female students, students eligible for standard lunch plans, when a student completed a test preparatory course, and also as the parent education level increases. We investigated the dynamics of the test preparatory course, and unintuitively saw that the rate of students that took a preparatory course were notably low with parents having the highest level of education, and they mostly fit into the standard lunch plan. Another interesting result is the percentage of students that completed test preparatory course in the least populated ethnic group, the plot revealed a proportion of 41% which is considerable higher than the other groups.\n",
    "\n",
    "In this section, we will depict these interaction effects through the use of multivariate plots."
   ]
  },
  {
   "cell_type": "markdown",
   "metadata": {},
   "source": [
    "**Does Gender really influence test outcomes? Let's observe the outcome in each subject**"
   ]
  },
  {
   "cell_type": "code",
   "execution_count": 37,
   "metadata": {},
   "outputs": [
    {
     "name": "stderr",
     "output_type": "stream",
     "text": [
      "C:\\Users\\Administrator\\anaconda3\\lib\\site-packages\\seaborn\\axisgrid.py:670: UserWarning: Using the boxplot function without specifying `order` is likely to produce an incorrect plot.\n",
      "  warnings.warn(warning)\n"
     ]
    },
    {
     "data": {
      "image/png": "[encoded data removed]",
      "text/plain": [
       "<Figure size 864x288 with 3 Axes>"
      ]
     },
     "metadata": {
      "needs_background": "light"
     },
     "output_type": "display_data"
    }
   ],
   "source": [
    "def facetgrid(data, col, x_axis, y_axis):\n",
    "    g = sb.FacetGrid(data = data, col = col, height = 4)\n",
    "    g.map(sb.boxplot, x_axis, y_axis)\n",
    "    # rotate tick labels\n",
    "    for axes in g.axes.flat:\n",
    "        _ = axes.set_xticklabels(axes.get_xticklabels(), rotation=90)\n",
    "    plt.tight_layout();\n",
    "\n",
    "facetgrid(test_clean, 'subject', 'gender', 'score');"
   ]
  },
  {
   "cell_type": "markdown",
   "metadata": {},
   "source": [
    "**Observation**\n",
    "\n",
    "Now we can see the variation of test scores for both genders based on the median, the subject variable helps us understand that female students excel more in Reading and Writing, while male students excel more at Math."
   ]
  },
  {
   "cell_type": "markdown",
   "metadata": {},
   "source": [
    "**Let's examine the relationship between test scores, test preparatory course and parent level of education. Is there a difference in test scores when a student completes preparations despite the parent education level?**"
   ]
  },
  {
   "cell_type": "code",
   "execution_count": 38,
   "metadata": {},
   "outputs": [
    {
     "name": "stderr",
     "output_type": "stream",
     "text": [
      "C:\\Users\\Administrator\\anaconda3\\lib\\site-packages\\seaborn\\axisgrid.py:670: UserWarning: Using the boxplot function without specifying `order` is likely to produce an incorrect plot.\n",
      "  warnings.warn(warning)\n"
     ]
    },
    {
     "data": {
      "image/png": "[encoded data removed]",
      "text/plain": [
       "<Figure size 576x288 with 2 Axes>"
      ]
     },
     "metadata": {
      "needs_background": "light"
     },
     "output_type": "display_data"
    }
   ],
   "source": [
    "facetgrid(test_clean, 'test_prep', 'parent_education', 'score')"
   ]
  },
  {
   "cell_type": "markdown",
   "metadata": {},
   "source": [
    "**Observation**\n",
    "\n",
    "We can observe the test scores increasing across each group. A key thing to note is difference in median scores of each group, the scores for completed preparations are higher than no preparation courses."
   ]
  },
  {
   "cell_type": "markdown",
   "metadata": {},
   "source": [
    "**Now, let's see an interaction of each ethnic group to test preparations and its effect on test scores**"
   ]
  },
  {
   "cell_type": "code",
   "execution_count": 39,
   "metadata": {},
   "outputs": [
    {
     "name": "stderr",
     "output_type": "stream",
     "text": [
      "C:\\Users\\Administrator\\anaconda3\\lib\\site-packages\\seaborn\\axisgrid.py:670: UserWarning: Using the boxplot function without specifying `order` is likely to produce an incorrect plot.\n",
      "  warnings.warn(warning)\n"
     ]
    },
    {
     "data": {
      "image/png": "[encoded data removed]",
      "text/plain": [
       "<Figure size 576x288 with 2 Axes>"
      ]
     },
     "metadata": {
      "needs_background": "light"
     },
     "output_type": "display_data"
    }
   ],
   "source": [
    "facetgrid(test_clean, 'test_prep', 'ethnicity', 'score')"
   ]
  },
  {
   "cell_type": "markdown",
   "metadata": {},
   "source": [
    "**Observation**\n",
    "\n",
    "In the box plot, the ethnic groups are arranged in order of decreasing popularity. The median scores for completed test preparations are higher with each ethnic group compared to no test preparations. Also, the height of the IQR for group A, is comparatively shorter in completed preparations than in no preparations. This suggests that students in this group have a higher level of agreement in scores compared to the other group"
   ]
  },
  {
   "cell_type": "markdown",
   "metadata": {},
   "source": [
    "**Let's examine the other socio-economic factors on test scores by test preparations**"
   ]
  },
  {
   "cell_type": "code",
   "execution_count": 41,
   "metadata": {},
   "outputs": [
    {
     "name": "stderr",
     "output_type": "stream",
     "text": [
      "C:\\Users\\Administrator\\anaconda3\\lib\\site-packages\\seaborn\\axisgrid.py:670: UserWarning: Using the barplot function without specifying `order` is likely to produce an incorrect plot.\n",
      "  warnings.warn(warning)\n"
     ]
    },
    {
     "data": {
      "image/png": "[encoded data removed]",
      "text/plain": [
       "<Figure size 432x432 with 4 Axes>"
      ]
     },
     "metadata": {
      "needs_background": "light"
     },
     "output_type": "display_data"
    }
   ],
   "source": [
    "# plot chart\n",
    "g = sb.FacetGrid(data = test_clean, col = 'test_prep', row = 'lunch', margin_titles = True)\n",
    "g.map(sb.barplot, 'parent_education', 'score');\n",
    "# rotate tick labels\n",
    "for axes in g.axes.flat:\n",
    "    _ = axes.set_xticklabels(axes.get_xticklabels(), rotation=90)\n",
    "plt.tight_layout();"
   ]
  },
  {
   "cell_type": "markdown",
   "metadata": {},
   "source": [
    "**Observations**\n",
    "\n",
    "We can observe that although the test scores increase with a consistent rise of these factors, students who completed the preparatory course, obtain higher scores than students without a test preparatory course"
   ]
  },
  {
   "cell_type": "markdown",
   "metadata": {},
   "source": [
    "## Conclusions\n",
    "\n",
    "- In comparing the test preparations across the parent's education level, and ethnic group A, which is associated with a high rate of completing preparation courses, we have been able to measure how effective test preparation courses are by the notable difference in test scores seen across each group.\n",
    "\n",
    "- We have also uncovered some determining factors of test outcomes. We know that subject plays a role by the distribution of scores in math to reading and writing based on the gender of the student. Socio-Economic factors like Lunch plan, which measures the household income of each student, Parent Level of Education which accounts for family environment and support, and Ethnicity which measures school support in minority represented groups are key factors in test scores. \n",
    "\n",
    "- Based on the data, to improve the test scores for students, I will suggest an increase in the engagement of test preparation courses, particularly on the subject each gender was shown to be weaker at, and an introduction of school related motivational and engagement activities targeted at students with low parental education background."
   ]
  },
  {
   "cell_type": "code",
   "execution_count": null,
   "metadata": {},
   "outputs": [],
   "source": [
    "# save cleaned dataframe for Part II project\n",
    "#test_clean.to_csv('C:/Users/Administrator/Documents/ALX-T Nano degree/project-communicate-data-findings/project/test_clean.csv')"
   ]
  }
 ],
 "metadata": {
  "kernelspec": {
   "display_name": "Python 3 (ipykernel)",
   "language": "python",
   "name": "python3"
  },
  "language_info": {
   "codemirror_mode": {
    "name": "ipython",
    "version": 3
   },
   "file_extension": ".py",
   "mimetype": "text/x-python",
   "name": "python",
   "nbconvert_exporter": "python",
   "pygments_lexer": "ipython3",
   "version": "3.9.12"
  }
 },
 "nbformat": 4,
 "nbformat_minor": 2
}
